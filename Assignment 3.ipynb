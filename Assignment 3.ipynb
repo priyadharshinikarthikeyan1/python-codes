{
 "cells": [
  {
   "cell_type": "markdown",
   "id": "f37ed352",
   "metadata": {},
   "source": [
    "#### 1. Why are functions advantageous to have in your programs?"
   ]
  },
  {
   "cell_type": "markdown",
   "id": "3c8926a7",
   "metadata": {},
   "source": [
    "#### Functions reduce the need for duplicate code. This makes programs shorter, easier to read and update."
   ]
  },
  {
   "cell_type": "code",
   "execution_count": null,
   "id": "d64ff549",
   "metadata": {},
   "outputs": [],
   "source": []
  },
  {
   "cell_type": "markdown",
   "id": "00d378d5",
   "metadata": {},
   "source": [
    "#### 2. When does the code in a function run: when it's specified or when it's called?"
   ]
  },
  {
   "cell_type": "markdown",
   "id": "92e3994a",
   "metadata": {},
   "source": [
    "#### When a function is called the code in the function runs not when it is defined"
   ]
  },
  {
   "cell_type": "code",
   "execution_count": null,
   "id": "16e2b6e7",
   "metadata": {},
   "outputs": [],
   "source": []
  },
  {
   "cell_type": "markdown",
   "id": "38157b36",
   "metadata": {},
   "source": [
    "#### 3. What statement creates a function?"
   ]
  },
  {
   "cell_type": "markdown",
   "id": "9910675a",
   "metadata": {},
   "source": [
    "#### The def function creates a function"
   ]
  },
  {
   "cell_type": "code",
   "execution_count": null,
   "id": "481b13a5",
   "metadata": {},
   "outputs": [],
   "source": []
  },
  {
   "cell_type": "markdown",
   "id": "a2277f76",
   "metadata": {},
   "source": [
    "#### 4. What is the difference between a function and a function call?"
   ]
  },
  {
   "cell_type": "markdown",
   "id": "825f08cb",
   "metadata": {},
   "source": [
    "#### A function consists of the def statement and the code in its def clause.\n",
    "\n",
    "#### A function call is what moves the program execution into the function, and the function call evaluates to the function's return value."
   ]
  },
  {
   "cell_type": "code",
   "execution_count": null,
   "id": "d1ebb543",
   "metadata": {},
   "outputs": [],
   "source": []
  },
  {
   "cell_type": "markdown",
   "id": "82069400",
   "metadata": {},
   "source": [
    "#### 5. How many global scopes are there in a Python program? How many local scopes?"
   ]
  },
  {
   "cell_type": "markdown",
   "id": "5ebb8678",
   "metadata": {},
   "source": [
    "#### There is one global scope, and a local scope is created whenever a function is called."
   ]
  },
  {
   "cell_type": "code",
   "execution_count": null,
   "id": "54a38f08",
   "metadata": {},
   "outputs": [],
   "source": []
  },
  {
   "cell_type": "markdown",
   "id": "c1151c36",
   "metadata": {},
   "source": [
    "#### 6. What happens to variables in a local scope when the function call returns?"
   ]
  },
  {
   "cell_type": "markdown",
   "id": "047cce87",
   "metadata": {},
   "source": [
    "#### When a function returns, the local scope is destroyed, and all the variables in it are forgotten."
   ]
  },
  {
   "cell_type": "code",
   "execution_count": null,
   "id": "4c6ef9a0",
   "metadata": {},
   "outputs": [],
   "source": []
  },
  {
   "cell_type": "markdown",
   "id": "75e98441",
   "metadata": {},
   "source": [
    "#### 7. What is the concept of a return value? Is it possible to have a return value in an expression?"
   ]
  },
  {
   "cell_type": "markdown",
   "id": "8222354e",
   "metadata": {},
   "source": [
    "#### A return value is the value that a function call evaluates to. Like any value, a return value can be used as part of an expression."
   ]
  },
  {
   "cell_type": "code",
   "execution_count": null,
   "id": "66bdea99",
   "metadata": {},
   "outputs": [],
   "source": []
  },
  {
   "cell_type": "markdown",
   "id": "2a232eb3",
   "metadata": {},
   "source": [
    "#### 8. If a function does not have a return statement, what is the return value of a call to that function?\t"
   ]
  },
  {
   "cell_type": "markdown",
   "id": "233a55cd",
   "metadata": {},
   "source": [
    "#### If there is no return statement for a function, its return value is None."
   ]
  },
  {
   "cell_type": "code",
   "execution_count": null,
   "id": "fabe400b",
   "metadata": {},
   "outputs": [],
   "source": []
  },
  {
   "cell_type": "markdown",
   "id": "85e03182",
   "metadata": {},
   "source": [
    "#### 9. How do you make a function variable refer to the global variable?"
   ]
  },
  {
   "cell_type": "markdown",
   "id": "1140f5f2",
   "metadata": {},
   "source": [
    "#### A global statement will force a variable in a function to refer to the global variable."
   ]
  },
  {
   "cell_type": "code",
   "execution_count": null,
   "id": "b0111e5c",
   "metadata": {},
   "outputs": [],
   "source": []
  },
  {
   "cell_type": "markdown",
   "id": "eebb99ca",
   "metadata": {},
   "source": [
    "#### 10. What is the data type of None?"
   ]
  },
  {
   "cell_type": "markdown",
   "id": "7977f343",
   "metadata": {},
   "source": [
    "#### The data type of None is NoneType."
   ]
  },
  {
   "cell_type": "code",
   "execution_count": null,
   "id": "9d11935f",
   "metadata": {},
   "outputs": [],
   "source": []
  },
  {
   "cell_type": "markdown",
   "id": "e3dd1017",
   "metadata": {},
   "source": [
    "#### 11. What does the sentence import areallyourpetsnamederic do?"
   ]
  },
  {
   "cell_type": "markdown",
   "id": "463e08ef",
   "metadata": {},
   "source": [
    "#### That import statement imports a module named areallyourpetsnamederic. "
   ]
  },
  {
   "cell_type": "code",
   "execution_count": null,
   "id": "035642bd",
   "metadata": {},
   "outputs": [],
   "source": []
  },
  {
   "cell_type": "markdown",
   "id": "3e4b0d1b",
   "metadata": {},
   "source": [
    "#### 12. If you had a bacon() feature in a spam module, what would you call it after importing spam?"
   ]
  },
  {
   "cell_type": "markdown",
   "id": "32533469",
   "metadata": {},
   "source": [
    "#### This function can be called with spam.bacon()."
   ]
  },
  {
   "cell_type": "code",
   "execution_count": null,
   "id": "03934b17",
   "metadata": {},
   "outputs": [],
   "source": []
  },
  {
   "cell_type": "markdown",
   "id": "99ad8c24",
   "metadata": {},
   "source": [
    "#### 13. What can you do to save a programme from crashing if it encounters an error?"
   ]
  },
  {
   "cell_type": "markdown",
   "id": "f3d5dc55",
   "metadata": {},
   "source": [
    "#### Place the line of code that might cause an error in a try clause."
   ]
  },
  {
   "cell_type": "code",
   "execution_count": null,
   "id": "a1a6da58",
   "metadata": {},
   "outputs": [],
   "source": []
  },
  {
   "cell_type": "markdown",
   "id": "49836f6c",
   "metadata": {},
   "source": [
    "#### 14. What is the purpose of the try clause? What is the purpose of the except clause?\n",
    "\n"
   ]
  },
  {
   "cell_type": "markdown",
   "id": "b12919b3",
   "metadata": {},
   "source": [
    "#### The code that could potentially cause an error goes in the try clause.\n",
    "\n",
    "#### The code that executes if an error happens goes in the except clause.\n",
    "\n",
    "\n"
   ]
  },
  {
   "cell_type": "code",
   "execution_count": null,
   "id": "200507a8",
   "metadata": {},
   "outputs": [],
   "source": []
  }
 ],
 "metadata": {
  "kernelspec": {
   "display_name": "Python 3 (ipykernel)",
   "language": "python",
   "name": "python3"
  },
  "language_info": {
   "codemirror_mode": {
    "name": "ipython",
    "version": 3
   },
   "file_extension": ".py",
   "mimetype": "text/x-python",
   "name": "python",
   "nbconvert_exporter": "python",
   "pygments_lexer": "ipython3",
   "version": "3.9.12"
  }
 },
 "nbformat": 4,
 "nbformat_minor": 5
}
