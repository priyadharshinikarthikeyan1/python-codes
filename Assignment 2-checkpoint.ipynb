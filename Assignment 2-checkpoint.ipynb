{
 "cells": [
  {
   "cell_type": "markdown",
   "id": "159b1855",
   "metadata": {},
   "source": [
    "#### 1.What are the two values of the Boolean data type? How do you write them?"
   ]
  },
  {
   "cell_type": "markdown",
   "id": "960b653a",
   "metadata": {},
   "source": [
    "#### The two values of Boolean data type are true and false.\n",
    "#### They can be written as first letter in capital as True and False"
   ]
  },
  {
   "cell_type": "code",
   "execution_count": null,
   "id": "2b6a4593",
   "metadata": {},
   "outputs": [],
   "source": []
  },
  {
   "cell_type": "markdown",
   "id": "ab0ca964",
   "metadata": {},
   "source": [
    "#### 2. What are the three different types of Boolean operators?"
   ]
  },
  {
   "cell_type": "markdown",
   "id": "af1efe16",
   "metadata": {},
   "source": [
    "#### The three different types of Boolean operators are AND OR and NOT"
   ]
  },
  {
   "cell_type": "markdown",
   "id": "2b5700d4",
   "metadata": {},
   "source": []
  },
  {
   "cell_type": "markdown",
   "id": "622b5578",
   "metadata": {},
   "source": [
    "#### 3. Make a list of each Boolean operator's truth tables (i.e. every possible combination of Boolean values for the operator and what it evaluate)"
   ]
  },
  {
   "cell_type": "markdown",
   "id": "5f906348",
   "metadata": {},
   "source": [
    "#### True and True is True.\n",
    "\n",
    "#### True and False is False.\n",
    "\n",
    "#### False and True is False.\n",
    "\n",
    "#### False and False is False.\n",
    "\n",
    "#### True or True is True.\n",
    "\n",
    "#### True or False is True.\n",
    "\n",
    "#### False or True is True.\n",
    "\n",
    "#### False or False is False.\n",
    "\n",
    "#### not True is False.\n",
    "\n",
    "#### not False is True."
   ]
  },
  {
   "cell_type": "code",
   "execution_count": null,
   "id": "912bbd4c",
   "metadata": {},
   "outputs": [],
   "source": []
  },
  {
   "cell_type": "markdown",
   "id": "83a78546",
   "metadata": {},
   "source": [
    "#### 4. What are the values of the following expressions?"
   ]
  },
  {
   "cell_type": "markdown",
   "id": "907db67a",
   "metadata": {},
   "source": [
    "#### (5 > 4) and (3 == 5)                                  ---  False          \n",
    "#### not (5 > 4)                                                 ---  False\n",
    "#### (5 > 4) or (3 == 5)                                     ---  True\n",
    "#### not ((5 > 4) or (3 == 5))                            ---   False\n",
    "#### (True and True) and (True == False)      ---   False\n",
    "#### (not False) or (not True)                         ---   True"
   ]
  },
  {
   "cell_type": "code",
   "execution_count": null,
   "id": "c8d4f9e7",
   "metadata": {},
   "outputs": [],
   "source": []
  },
  {
   "cell_type": "markdown",
   "id": "17343a8b",
   "metadata": {},
   "source": [
    "#### 5. What are the six comparison operators?"
   ]
  },
  {
   "cell_type": "markdown",
   "id": "4bfeb579",
   "metadata": {},
   "source": [
    "#### The six comparison operators are   ==, !=, <, >, <=, and >=."
   ]
  },
  {
   "cell_type": "code",
   "execution_count": null,
   "id": "76a8b921",
   "metadata": {},
   "outputs": [],
   "source": []
  },
  {
   "cell_type": "markdown",
   "id": "19b08188",
   "metadata": {},
   "source": [
    "#### 6. How do you tell the difference between the equal to and assignment operators?Describe a condition and when you would use one."
   ]
  },
  {
   "cell_type": "markdown",
   "id": "92a4a33f",
   "metadata": {},
   "source": [
    "#### == is the equal to operator that compares two values and evaluates to a Boolean, while = is the assignment operator that stores a value in a variable."
   ]
  },
  {
   "cell_type": "code",
   "execution_count": 1,
   "id": "29a625c3",
   "metadata": {},
   "outputs": [
    {
     "name": "stdout",
     "output_type": "stream",
     "text": [
      "True\n"
     ]
    }
   ],
   "source": [
    "a=10  #Assignment operator\n",
    "if(a==10):  #Equal to operator\n",
    "    print(\"True\")"
   ]
  },
  {
   "cell_type": "code",
   "execution_count": null,
   "id": "00b091e4",
   "metadata": {},
   "outputs": [],
   "source": []
  },
  {
   "cell_type": "markdown",
   "id": "40fb84ec",
   "metadata": {},
   "source": [
    "#### 7. Identify the three blocks in this code:\n",
    "#### spam = 0\n",
    "#### if spam == 10:\n",
    "#### prnt('eggs')\n",
    "#### if spam > 5:\n",
    "#### print('bacon')\n",
    "#### else:\n",
    "#### print('ham')\n",
    "#### print('spam')\n",
    "#### print('spam')\n"
   ]
  },
  {
   "cell_type": "markdown",
   "id": "dec152b2",
   "metadata": {},
   "source": [
    "#### The three blocks are everything inside the if statement and the lines print('bacon') and print('ham').\n",
    "#### print('eggs')\n",
    "#### if spam > 5:\n",
    "#### print('bacon')\n",
    "#### else:\n",
    "#### print('ham')\n",
    "#### print('spam')"
   ]
  },
  {
   "cell_type": "code",
   "execution_count": null,
   "id": "ee103f1c",
   "metadata": {},
   "outputs": [],
   "source": []
  },
  {
   "cell_type": "markdown",
   "id": "e0dba73c",
   "metadata": {},
   "source": [
    "#### 8. Write code that prints Hello if 1 is stored in spam, prints Howdy if 2 is stored in spam, and prints Greetings! if anything else is stored in spam.\n",
    "\n"
   ]
  },
  {
   "cell_type": "code",
   "execution_count": 2,
   "id": "4cb77e8c",
   "metadata": {},
   "outputs": [
    {
     "name": "stdout",
     "output_type": "stream",
     "text": [
      "1\n",
      "Hello\n"
     ]
    }
   ],
   "source": [
    "spam=int(input())\n",
    "if(spam==1):\n",
    "    print(\"Hello\")\n",
    "elif(spam==2):\n",
    "    print(\"Howdy\")\n",
    "else:\n",
    "    print(\"Greetings!\")"
   ]
  },
  {
   "cell_type": "code",
   "execution_count": null,
   "id": "17632ade",
   "metadata": {},
   "outputs": [],
   "source": []
  },
  {
   "cell_type": "markdown",
   "id": "30f11267",
   "metadata": {},
   "source": [
    "#### 9.If your programme is stuck in an endless loop, what keys you’ll press?"
   ]
  },
  {
   "cell_type": "markdown",
   "id": "6422d5cf",
   "metadata": {},
   "source": [
    "#### CTRL - C can be used to stop the endless loop"
   ]
  },
  {
   "cell_type": "code",
   "execution_count": null,
   "id": "50709785",
   "metadata": {},
   "outputs": [],
   "source": []
  },
  {
   "cell_type": "markdown",
   "id": "195988ac",
   "metadata": {},
   "source": [
    "#### 10. How can you tell the difference between break and continue?"
   ]
  },
  {
   "cell_type": "markdown",
   "id": "014d4242",
   "metadata": {},
   "source": [
    "#### The break statement \"jumps out\" of a loop. The continue statement \"jumps over\" one iteration in the loop."
   ]
  },
  {
   "cell_type": "code",
   "execution_count": null,
   "id": "466f13fe",
   "metadata": {},
   "outputs": [],
   "source": []
  },
  {
   "cell_type": "markdown",
   "id": "fa2ec781",
   "metadata": {},
   "source": [
    "#### 11.In a for loop, what is the difference between range(10), range(0, 10), and range(0, 10, 1)?"
   ]
  },
  {
   "cell_type": "markdown",
   "id": "dea4b3bc",
   "metadata": {},
   "source": [
    "#### The syntax for range function is range(start, stop,step).Here start and step can take default values 0 and 1 respectively if value not specified.\n",
    "#### range(10) -- only one argument passed so start=0 and step=1 taken as default and it will generate 0 to 9 integers\n",
    "#### range(0,10) -- two arguments passed so step=1 taken as default and it will generate 0 to 9 integers\n",
    "#### range(0,10,1) -- three arguments passed so it will generate 0 to 9 integers "
   ]
  },
  {
   "cell_type": "code",
   "execution_count": null,
   "id": "dc0748f2",
   "metadata": {},
   "outputs": [],
   "source": []
  },
  {
   "cell_type": "markdown",
   "id": "e19efbe7",
   "metadata": {},
   "source": [
    "#### 12. Write a short program that prints the numbers 1 to 10 using a for loop. Then write an equivalent program that prints the numbers 1 to 10 using a while loop."
   ]
  },
  {
   "cell_type": "code",
   "execution_count": 3,
   "id": "b5443376",
   "metadata": {},
   "outputs": [
    {
     "name": "stdout",
     "output_type": "stream",
     "text": [
      "1\n",
      "2\n",
      "3\n",
      "4\n",
      "5\n",
      "6\n",
      "7\n",
      "8\n",
      "9\n",
      "10\n"
     ]
    }
   ],
   "source": [
    "for i in range(1,11,1):      #using for loop\n",
    "    print(i)"
   ]
  },
  {
   "cell_type": "code",
   "execution_count": 5,
   "id": "f7b4092d",
   "metadata": {},
   "outputs": [
    {
     "name": "stdout",
     "output_type": "stream",
     "text": [
      "1\n",
      "2\n",
      "3\n",
      "4\n",
      "5\n",
      "6\n",
      "7\n",
      "8\n",
      "9\n",
      "10\n"
     ]
    }
   ],
   "source": [
    "i=1\n",
    "while(i<11):\n",
    "    print(i)\n",
    "    i=i+1"
   ]
  },
  {
   "cell_type": "code",
   "execution_count": null,
   "id": "b06e1c8f",
   "metadata": {},
   "outputs": [],
   "source": []
  },
  {
   "cell_type": "markdown",
   "id": "0a691732",
   "metadata": {},
   "source": [
    "#### 13. If you had a function named bacon() inside a module named spam, how would you call it after importing spam?"
   ]
  },
  {
   "cell_type": "markdown",
   "id": "38453f10",
   "metadata": {},
   "source": [
    "#### This function can be called with spam. bacon()"
   ]
  },
  {
   "cell_type": "code",
   "execution_count": null,
   "id": "47d8f114",
   "metadata": {},
   "outputs": [],
   "source": []
  }
 ],
 "metadata": {
  "kernelspec": {
   "display_name": "Python 3 (ipykernel)",
   "language": "python",
   "name": "python3"
  },
  "language_info": {
   "codemirror_mode": {
    "name": "ipython",
    "version": 3
   },
   "file_extension": ".py",
   "mimetype": "text/x-python",
   "name": "python",
   "nbconvert_exporter": "python",
   "pygments_lexer": "ipython3",
   "version": "3.9.12"
  }
 },
 "nbformat": 4,
 "nbformat_minor": 5
}
