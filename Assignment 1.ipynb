{
 "cells": [
  {
   "cell_type": "markdown",
   "id": "bd2d8f0c",
   "metadata": {},
   "source": [
    "#### 1. In the below elements which of them are values or an expression? eg:- values can be\n",
    "#### integer or string and expressions will be mathematical operators."
   ]
  },
  {
   "cell_type": "markdown",
   "id": "99f0a47a",
   "metadata": {},
   "source": [
    "####     *       ---- an expression as it is a mathematical operator\n",
    "####  'hello'  ---- a value as it is a string datatype\n",
    "####  -87.8   ---- a value as it is an integer datatype\n",
    "####     -        ---- an expression as it is a mathematical operator\n",
    "####     /       ---- an expression as it is a mathematical operator\n",
    "####    +       ---- an expression as it is a mathematical operator\n",
    "####    6       ---- a value as it is an integer datatype"
   ]
  },
  {
   "cell_type": "code",
   "execution_count": null,
   "id": "d0c38178",
   "metadata": {},
   "outputs": [],
   "source": []
  },
  {
   "cell_type": "markdown",
   "id": "4ea1a08c",
   "metadata": {},
   "source": [
    "#### 2. What is the difference between string and variable?"
   ]
  },
  {
   "cell_type": "markdown",
   "id": "ecc27b95",
   "metadata": {},
   "source": [
    "#### Variables are symbols that we can use to store data or value. It is a store of information\n",
    "#### String is a datatype we can use them to fill up the variable. It is a type of information that we would store\n",
    "#### Example:\n",
    "#### string x = \"Hello\"\n",
    "#### Here x is a variable and it is stored as a string data."
   ]
  },
  {
   "cell_type": "code",
   "execution_count": null,
   "id": "c9bef2ce",
   "metadata": {},
   "outputs": [],
   "source": []
  },
  {
   "cell_type": "markdown",
   "id": "69d544bf",
   "metadata": {},
   "source": [
    "#### 3. Describe three different data types."
   ]
  },
  {
   "cell_type": "markdown",
   "id": "565f415d",
   "metadata": {},
   "source": [
    "#### 1)Numeric: Numeric datatype represent the data which has numeric value. It can be integer, floating or complex numbers\n",
    "####       Integer: Defined as int. It contains positive or negative whole numbers.\n",
    "####       Float: Defined as float. It is a real number with floating point representation that is a decimal point.\n",
    "####       Complex: Defined as complex. It is specified as real part + (imaginary part)j  eg: 2+3j\n",
    "#### 2)Sequence: It is the ordered collection of similar or different datatypes. It allows to store multiple values in an organized       manner. It can be string, list and tuple\n",
    "####      String: It is a array of bytes representing unicode characters. It is  a collection of one or more characters put in      single,double or triple quotes. It is represented as str class.\n",
    "####      List: It is just like the arrays, which is a ordered collection of data. Items in a list need not be of same type.\n",
    "####      Tuple: It is also an ordered collection of objects. The only difference between tuple and list is that tuples are immutable. It is represented by tuple class\n",
    "#### 3)Boolean: It is with two built in values True or False. Boolean objects that are equal to True are truthy and those equal to False are falsy. It is represented by class bool\n"
   ]
  },
  {
   "cell_type": "code",
   "execution_count": null,
   "id": "a7133504",
   "metadata": {},
   "outputs": [],
   "source": []
  },
  {
   "cell_type": "markdown",
   "id": "745aae12",
   "metadata": {},
   "source": [
    "#### 4. What is an expression made up of? What do all expressions do?"
   ]
  },
  {
   "cell_type": "markdown",
   "id": "4b55af78",
   "metadata": {},
   "source": [
    "#### An expression is a sequence or combination of values, variables, operators and operands that is interpreted to produce some other value. The expression always produces or returns a single result value. \n"
   ]
  },
  {
   "cell_type": "code",
   "execution_count": null,
   "id": "2f98aa6f",
   "metadata": {},
   "outputs": [],
   "source": []
  },
  {
   "cell_type": "markdown",
   "id": "ffb8fafe",
   "metadata": {},
   "source": [
    "#### 5. This assignment statements, like spam = 10. What is the difference between an\n",
    "#### expression and a statement?"
   ]
  },
  {
   "cell_type": "markdown",
   "id": "ce2ea43a",
   "metadata": {},
   "source": [
    "#### Expression:  An expression evaluates to a value. It always returns a single result value. Every expression can't be a statement.\n",
    "#### Example: c = a+b\n",
    "#### Statement:  A statement executes something. It may or maynot return a result value, it only does whatever the statement says. Every statement can be an expression\n",
    "#### Example: spam = 10 is an asignment statement which simply assigns the value 10 to varible 'spam'. print, if , else, while are statements in python"
   ]
  },
  {
   "cell_type": "markdown",
   "id": "35f55e9b",
   "metadata": {},
   "source": [
    "#### 6. After running the following code, what does the variable bacon contain?\n",
    "#### bacon = 22\n",
    "#### bacon + 1"
   ]
  },
  {
   "cell_type": "code",
   "execution_count": 1,
   "id": "b21dc5d0",
   "metadata": {},
   "outputs": [
    {
     "name": "stdout",
     "output_type": "stream",
     "text": [
      "22\n"
     ]
    }
   ],
   "source": [
    "bacon = 22\n",
    "bacon + 1\n",
    "print(bacon)"
   ]
  },
  {
   "cell_type": "markdown",
   "id": "1ca87717",
   "metadata": {},
   "source": [
    "#### The variable bacon contains 22 because the expression is not stored or reassigned to that variable. So it gives the already assigned  value."
   ]
  },
  {
   "cell_type": "code",
   "execution_count": null,
   "id": "0ea43764",
   "metadata": {},
   "outputs": [],
   "source": []
  },
  {
   "cell_type": "markdown",
   "id": "46b11095",
   "metadata": {},
   "source": [
    "#### 7. What should the values of the following two terms be?\n",
    "#### 'spam' + 'spamspam'\n",
    "#### 'spam' * 3"
   ]
  },
  {
   "cell_type": "code",
   "execution_count": 2,
   "id": "ce7ae523",
   "metadata": {},
   "outputs": [
    {
     "data": {
      "text/plain": [
       "'spamspamspam'"
      ]
     },
     "execution_count": 2,
     "metadata": {},
     "output_type": "execute_result"
    }
   ],
   "source": [
    "'spam' + 'spamspam'   # string concatenation "
   ]
  },
  {
   "cell_type": "code",
   "execution_count": 13,
   "id": "6031c24e",
   "metadata": {},
   "outputs": [
    {
     "data": {
      "text/plain": [
       "'spamspamspam'"
      ]
     },
     "execution_count": 13,
     "metadata": {},
     "output_type": "execute_result"
    }
   ],
   "source": [
    "'spam' * 3  # as spam is a string * operator just repeat it for 3 times"
   ]
  },
  {
   "cell_type": "markdown",
   "id": "b50107b7",
   "metadata": {},
   "source": [
    "#### Both the expressions evaluates to same string. In first case string concatenation takes place with other string. In second case,as spam is a string * operator just repeat it for 3 times"
   ]
  },
  {
   "cell_type": "markdown",
   "id": "dea625c8",
   "metadata": {},
   "source": [
    "#### 8. Why is eggs a valid variable name while 100 is invalid?"
   ]
  },
  {
   "cell_type": "markdown",
   "id": "6ccf5dfe",
   "metadata": {},
   "source": [
    "#### There exists a rule that variable name cannot start with a number. so 100 is invalid variable.\n",
    "#### A variable name must start with a letter or underscore and can contain only alpha numeric characters and underscores. The variable \"eggs\" satisfies the rules so it is valid"
   ]
  },
  {
   "cell_type": "code",
   "execution_count": null,
   "id": "97cdead5",
   "metadata": {},
   "outputs": [],
   "source": []
  },
  {
   "cell_type": "markdown",
   "id": "2892617b",
   "metadata": {},
   "source": [
    "#### 9. What three functions can be used to get the integer, floating-point number, or string\n",
    "#### version of a value?"
   ]
  },
  {
   "cell_type": "markdown",
   "id": "8467ba59",
   "metadata": {},
   "source": [
    "#### The int(), float(), and str() functions will evaluate to the integer, floating-point number, and string versions of the value passed to them"
   ]
  },
  {
   "cell_type": "code",
   "execution_count": null,
   "id": "113f2694",
   "metadata": {},
   "outputs": [],
   "source": []
  },
  {
   "cell_type": "markdown",
   "id": "a608fd92",
   "metadata": {},
   "source": [
    "#### 10. Why does this expression cause an error? How can you fix it?\n",
    "#### 'I have eaten ' + 99 + 'burritos.'"
   ]
  },
  {
   "cell_type": "code",
   "execution_count": 4,
   "id": "7003fc2a",
   "metadata": {},
   "outputs": [
    {
     "ename": "TypeError",
     "evalue": "can only concatenate str (not \"int\") to str",
     "output_type": "error",
     "traceback": [
      "\u001b[1;31m---------------------------------------------------------------------------\u001b[0m",
      "\u001b[1;31mTypeError\u001b[0m                                 Traceback (most recent call last)",
      "Input \u001b[1;32mIn [4]\u001b[0m, in \u001b[0;36m<cell line: 1>\u001b[1;34m()\u001b[0m\n\u001b[1;32m----> 1\u001b[0m \u001b[38;5;124;43m'\u001b[39;49m\u001b[38;5;124;43mI have eaten \u001b[39;49m\u001b[38;5;124;43m'\u001b[39;49m\u001b[43m \u001b[49m\u001b[38;5;241;43m+\u001b[39;49m\u001b[43m \u001b[49m\u001b[38;5;241;43m99\u001b[39;49m \u001b[38;5;241m+\u001b[39m \u001b[38;5;124m'\u001b[39m\u001b[38;5;124mburritos.\u001b[39m\u001b[38;5;124m'\u001b[39m\n",
      "\u001b[1;31mTypeError\u001b[0m: can only concatenate str (not \"int\") to str"
     ]
    }
   ],
   "source": [
    "'I have eaten ' + 99 + 'burritos.'\n"
   ]
  },
  {
   "cell_type": "markdown",
   "id": "b93d616a",
   "metadata": {},
   "source": [
    "#### The expression causes an error because 99 is an integer,  strings only can be concatenated to other strings with the + operator. The correct way is 'I have eaten ' + str(99) + ' burritos.' or 'I have eaten' + '99' + 'burritos.'"
   ]
  },
  {
   "cell_type": "code",
   "execution_count": 10,
   "id": "787db1f0",
   "metadata": {},
   "outputs": [
    {
     "data": {
      "text/plain": [
       "'I have eaten99burritos.'"
      ]
     },
     "execution_count": 10,
     "metadata": {},
     "output_type": "execute_result"
    }
   ],
   "source": [
    "'I have eaten' + str(99)  +  'burritos.'\n"
   ]
  },
  {
   "cell_type": "code",
   "execution_count": 11,
   "id": "f257fa08",
   "metadata": {},
   "outputs": [
    {
     "data": {
      "text/plain": [
       "'I have eaten99burritos.'"
      ]
     },
     "execution_count": 11,
     "metadata": {},
     "output_type": "execute_result"
    }
   ],
   "source": [
    "'I have eaten' + '99' + 'burritos.'\n"
   ]
  },
  {
   "cell_type": "code",
   "execution_count": null,
   "id": "c9536035",
   "metadata": {},
   "outputs": [],
   "source": []
  }
 ],
 "metadata": {
  "kernelspec": {
   "display_name": "Python 3 (ipykernel)",
   "language": "python",
   "name": "python3"
  },
  "language_info": {
   "codemirror_mode": {
    "name": "ipython",
    "version": 3
   },
   "file_extension": ".py",
   "mimetype": "text/x-python",
   "name": "python",
   "nbconvert_exporter": "python",
   "pygments_lexer": "ipython3",
   "version": "3.9.12"
  }
 },
 "nbformat": 4,
 "nbformat_minor": 5
}
