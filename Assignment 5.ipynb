{
 "cells": [
  {
   "cell_type": "markdown",
   "id": "50b2df08",
   "metadata": {},
   "source": [
    "#### 1. What does an empty dictionary's code look like?"
   ]
  },
  {
   "cell_type": "markdown",
   "id": "15ca97b7",
   "metadata": {},
   "source": [
    "#### Two curly brackets: {}"
   ]
  },
  {
   "cell_type": "code",
   "execution_count": null,
   "id": "1e83fa54",
   "metadata": {},
   "outputs": [],
   "source": []
  },
  {
   "cell_type": "markdown",
   "id": "f382a24d",
   "metadata": {},
   "source": [
    "#### 2. What is the value of a dictionary value with the key 'foo' and the value 42?"
   ]
  },
  {
   "cell_type": "markdown",
   "id": "06bbd440",
   "metadata": {},
   "source": [
    "#### {'foo': 42}"
   ]
  },
  {
   "cell_type": "code",
   "execution_count": null,
   "id": "5f4b5274",
   "metadata": {},
   "outputs": [],
   "source": []
  },
  {
   "cell_type": "markdown",
   "id": "ad7bb947",
   "metadata": {},
   "source": [
    "#### 3. What is the most significant distinction between a dictionary and a list?"
   ]
  },
  {
   "cell_type": "markdown",
   "id": "1674e229",
   "metadata": {},
   "source": [
    "#### The items stored in a dictionary are unordered, while the items in a list are ordered.\n",
    "\n",
    "\n"
   ]
  },
  {
   "cell_type": "code",
   "execution_count": null,
   "id": "8204bb99",
   "metadata": {},
   "outputs": [],
   "source": []
  },
  {
   "cell_type": "markdown",
   "id": "4243fd8c",
   "metadata": {},
   "source": [
    "#### 4. What happens if you try to access spam['foo'] if spam is {'bar': 100}?"
   ]
  },
  {
   "cell_type": "markdown",
   "id": "96856906",
   "metadata": {},
   "source": [
    "#### It will give KeyError error."
   ]
  },
  {
   "cell_type": "code",
   "execution_count": null,
   "id": "4bffe710",
   "metadata": {},
   "outputs": [],
   "source": []
  },
  {
   "cell_type": "markdown",
   "id": "e1235aaf",
   "metadata": {},
   "source": [
    "#### 5. If a dictionary is stored in spam, what is the difference between the expressions 'cat' in spam and 'cat' in spam.keys()?"
   ]
  },
  {
   "cell_type": "markdown",
   "id": "781905c4",
   "metadata": {},
   "source": [
    "#### There is no difference. The in operator checks whether a value exists as a key in the dictionary."
   ]
  },
  {
   "cell_type": "code",
   "execution_count": null,
   "id": "96b9077e",
   "metadata": {},
   "outputs": [],
   "source": []
  },
  {
   "cell_type": "markdown",
   "id": "2a7ff99f",
   "metadata": {},
   "source": [
    "#### 6. If a dictionary is stored in spam, what is the difference between the expressions 'cat' in spam and 'cat' in spam.values()?"
   ]
  },
  {
   "cell_type": "markdown",
   "id": "3c07914a",
   "metadata": {},
   "source": [
    "#### 'cat' in spam checks whether there is a 'cat' key in the dictionary.\n",
    "#### 'cat' in spam.values() checks whether there is a value 'cat' for one of the keys in spam."
   ]
  },
  {
   "cell_type": "code",
   "execution_count": null,
   "id": "67a31756",
   "metadata": {},
   "outputs": [],
   "source": []
  },
  {
   "cell_type": "markdown",
   "id": "d0888b2e",
   "metadata": {},
   "source": [
    "#### 7. What is a shortcut for the following code?"
   ]
  },
  {
   "cell_type": "markdown",
   "id": "f8cf312a",
   "metadata": {},
   "source": [
    "#### if 'color' not in spam:\n",
    "#### spam['color'] = 'black'\n"
   ]
  },
  {
   "cell_type": "markdown",
   "id": "57355297",
   "metadata": {},
   "source": [
    "#### spam.setdefault('color', 'black') can be used as a shortcut"
   ]
  },
  {
   "cell_type": "code",
   "execution_count": null,
   "id": "16c68188",
   "metadata": {},
   "outputs": [],
   "source": []
  },
  {
   "cell_type": "markdown",
   "id": "93905a71",
   "metadata": {},
   "source": [
    "#### 8. How do you \"pretty print\" dictionary values using which module and function?\n",
    "\n"
   ]
  },
  {
   "cell_type": "markdown",
   "id": "5fbb3d67",
   "metadata": {},
   "source": [
    "#### pprint.pprint() the module and function is pprint and pprint() respectively"
   ]
  },
  {
   "cell_type": "code",
   "execution_count": null,
   "id": "b14d3631",
   "metadata": {},
   "outputs": [],
   "source": []
  }
 ],
 "metadata": {
  "kernelspec": {
   "display_name": "Python 3 (ipykernel)",
   "language": "python",
   "name": "python3"
  },
  "language_info": {
   "codemirror_mode": {
    "name": "ipython",
    "version": 3
   },
   "file_extension": ".py",
   "mimetype": "text/x-python",
   "name": "python",
   "nbconvert_exporter": "python",
   "pygments_lexer": "ipython3",
   "version": "3.9.12"
  }
 },
 "nbformat": 4,
 "nbformat_minor": 5
}
